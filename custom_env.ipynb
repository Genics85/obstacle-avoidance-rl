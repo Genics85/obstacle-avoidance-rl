{
 "cells": [
  {
   "cell_type": "markdown",
   "metadata": {},
   "source": [
    "## installing dependencies"
   ]
  },
  {
   "cell_type": "code",
   "execution_count": null,
   "metadata": {},
   "outputs": [],
   "source": [
    "!pip install opencv-python"
   ]
  },
  {
   "cell_type": "code",
   "execution_count": null,
   "metadata": {},
   "outputs": [],
   "source": [
    "!pip install pillow"
   ]
  },
  {
   "cell_type": "markdown",
   "metadata": {},
   "source": [
    "## importing libraries"
   ]
  },
  {
   "cell_type": "code",
   "execution_count": 1,
   "metadata": {},
   "outputs": [
    {
     "name": "stderr",
     "output_type": "stream",
     "text": [
      "C:\\Users\\Genics\\AppData\\Local\\Programs\\Python\\Python310\\lib\\site-packages\\gym\\wrappers\\monitoring\\video_recorder.py:9: DeprecationWarning: The distutils package is deprecated and slated for removal in Python 3.12. Use setuptools or check PEP 632 for potential alternatives\n",
      "  import distutils.spawn\n",
      "C:\\Users\\Genics\\AppData\\Local\\Programs\\Python\\Python310\\lib\\site-packages\\tqdm\\auto.py:22: TqdmWarning: IProgress not found. Please update jupyter and ipywidgets. See https://ipywidgets.readthedocs.io/en/stable/user_install.html\n",
      "  from .autonotebook import tqdm as notebook_tqdm\n"
     ]
    }
   ],
   "source": [
    "import numpy as np\n",
    "import cv2\n",
    "import matplotlib.pyplot as plt\n",
    "from PIL import Image\n",
    "import gym\n",
    "import random\n",
    "from gym import Env,spaces\n",
    "import time\n",
    "import os\n",
    "from stable_baselines3 import PPO\n",
    "from stable_baselines3.common.vec_env import DummyVecEnv\n",
    "from stable_baselines3.common.evaluation import evaluate_policy\n",
    "\n",
    "font= cv2.FONT_HERSHEY_COMPLEX_SMALL"
   ]
  },
  {
   "cell_type": "code",
   "execution_count": 23,
   "metadata": {},
   "outputs": [
    {
     "name": "stdout",
     "output_type": "stream",
     "text": [
      "PNG (840, 859) RGBA\n"
     ]
    }
   ],
   "source": [
    "img=Image.open(\"car.png\")\n",
    "print(img.format, img.size,img.mode)\n",
    "img.show()"
   ]
  },
  {
   "cell_type": "markdown",
   "metadata": {},
   "source": [
    "## Description of enviroment"
   ]
  },
  {
   "cell_type": "code",
   "execution_count": 16,
   "metadata": {},
   "outputs": [],
   "source": [
    "class CarScape(Env):\n",
    "    \n",
    "    def __init__(self):\n",
    "        super(CarScape, self).__init__()\n",
    "        \n",
    "        # Define a 2-D observation space\n",
    "        self.observation_shape = (600, 800, 3)\n",
    "        self.observation_space = spaces.Box(low = np.zeros(self.observation_shape), \n",
    "                                            high = np.ones(self.observation_shape),\n",
    "                                            dtype = np.float16)\n",
    "    \n",
    "        \n",
    "        # Define an action space ranging from 0 to 4\n",
    "        self.action_space = spaces.Discrete(6,)\n",
    "                        \n",
    "        # Create a canvas to render the environment images upon \n",
    "        self.canvas = np.ones(self.observation_shape) * 1\n",
    "        \n",
    "        # Define elements present inside the environment\n",
    "        self.elements = []\n",
    "\n",
    "        # Permissible area of car to be \n",
    "        self.y_min = int (self.observation_shape[0] * 0.1)\n",
    "        self.x_min = 0\n",
    "        self.y_max = int (self.observation_shape[0] * 0.9)\n",
    "        self.x_max = self.observation_shape[1]\n",
    "\n",
    "    def reset(self):\n",
    "\n",
    "        # Reset the reward\n",
    "        self.ep_return  = 0\n",
    "\n",
    "        # Number of stones\n",
    "        self.stone_count = 0\n",
    "\n",
    "        self.fuel_left=1000\n",
    "\n",
    "        # Determine a place to intialise the car in\n",
    "        x = random.randrange(int(self.observation_shape[0] * 0.05), int(self.observation_shape[0] * 0.10))\n",
    "        y = random.randrange(int(self.observation_shape[1] * 0.15), int(self.observation_shape[1] * 0.20))\n",
    "        \n",
    "        # Intialise the car\n",
    "        self.car =Car(\"Car\", self.x_max, self.x_min, self.y_max, self.y_min)\n",
    "        self.car.set_position(x,y)\n",
    "\n",
    "        # Intialise the elements \n",
    "        self.elements = [self.car]\n",
    "\n",
    "        # Reset the Canvas \n",
    "        self.canvas = np.ones(self.observation_shape) * 1\n",
    "\n",
    "        # Draw elements on the canvas\n",
    "        self.draw_elements_on_canvas()\n",
    "\n",
    "\n",
    "        # return the observation\n",
    "        return self.canvas \n",
    "\n",
    "    \n",
    "    def draw_elements_on_canvas(self):\n",
    "        # Init the canvas \n",
    "        self.canvas = np.ones(self.observation_shape) * 1\n",
    "\n",
    "        # Draw the heliopter on canvas\n",
    "        for elem in self.elements:\n",
    "            elem_shape = elem.icon.shape\n",
    "            x,y = elem.x, elem.y\n",
    "            self.canvas[y : y + elem_shape[1], x:x + elem_shape[0]] = elem.icon\n",
    "\n",
    "        text = 'Fuel Left: {} | Rewards: {}'.format(self.fuel_left, self.ep_return)\n",
    "\n",
    "        # Put the info on canvas \n",
    "        self.canvas = cv2.putText(self.canvas, text, (10,20), font,  \n",
    "                0.8, (0,0,0), 1, cv2.LINE_AA)\n",
    "\n",
    "    def get_action_meanings(self):\n",
    "        return {0: \"Right\", 1: \"Left\", 2: \"Down\", 3: \"Up\", 4: \"Do Nothing\"}\n",
    "\n",
    "    def has_collided(self, elem1, elem2):\n",
    "        x_col = False\n",
    "        y_col = False\n",
    "\n",
    "        elem1_x, elem1_y = elem1.get_position()\n",
    "        elem2_x, elem2_y = elem2.get_position()\n",
    "\n",
    "        if 2 * abs(elem1_x - elem2_x) <= (elem1.icon_w + elem2.icon_w):\n",
    "            x_col = True\n",
    "\n",
    "        if 2 * abs(elem1_y - elem2_y) <= (elem1.icon_h + elem2.icon_h):\n",
    "            y_col = True\n",
    "\n",
    "        if x_col and y_col:\n",
    "            return True\n",
    "\n",
    "        return False\n",
    "\n",
    "    def step(self, action):\n",
    "        # Flag that marks the termination of an episode\n",
    "        done = False\n",
    "        \n",
    "        # Assert that it is a valid action \n",
    "        assert self.action_space.contains(action), \"Invalid Action\"\n",
    "\n",
    "        # Decrease the fuel counter \n",
    "        self.fuel_left -= 1 \n",
    "        \n",
    "        # Reward for executing a step.\n",
    "        reward = 1      \n",
    "\n",
    "        # apply the action to the car\n",
    "        if action == 0:         # right\n",
    "            self.car.move(0,5)\n",
    "        elif action == 1:       # left\n",
    "            self.car.move(0,-5)\n",
    "        elif action == 2:       # down\n",
    "            self.car.move(5,0)\n",
    "        elif action == 3:       # up\n",
    "            self.car.move(-5,0)\n",
    "        elif action == 4:       # do nothing\n",
    "            self.car.move(0,0)\n",
    "\n",
    "        # Spawn a stone at the right edge with prob 0.01\n",
    "        if random.random() < 0.05:\n",
    "            \n",
    "            # Spawn a stone\n",
    "            spawned_stone = Stone(\"stone_{}\".format(self.stone_count), self.x_max, self.x_min, self.y_max, self.y_min)\n",
    "            self.stone_count += 1\n",
    "\n",
    "            # Compute the x,y co-ordinates of the position from where the stone has to be spawned\n",
    "            # Horizontally, the position is on the right edge and vertically, the height is randomly \n",
    "            # sampled from the set of permissible values\n",
    "            stone_x = self.x_max \n",
    "            stone_y = random.randrange(self.y_min, self.y_max)\n",
    "            spawned_stone.set_position(self.x_max, stone_y)\n",
    "            \n",
    "            # Append the spawned stone to the elements currently present in Env. \n",
    "            self.elements.append(spawned_stone)    \n",
    " \n",
    "\n",
    "        # For elements in the Ev\n",
    "        for elem in self.elements:\n",
    "            if isinstance(elem, Stone):\n",
    "                # If the stone has reached the left edge, remove it from the Env\n",
    "                if elem.get_position()[0] <= self.x_min:\n",
    "                    self.elements.remove(elem)\n",
    "                else:\n",
    "                    # Move the stone left by 5 pts.\n",
    "                    elem.move(-10,0)\n",
    "                \n",
    "                # If the stone has collided.\n",
    "                if self.has_collided(self.car, elem):\n",
    "                    # Conclude the episode and remove the car from the Env.\n",
    "                    done = True\n",
    "                    reward = -10\n",
    "                    self.elements.remove(self.car)\n",
    "\n",
    "        \n",
    "        # Increment the episodic return\n",
    "        self.ep_return += 1\n",
    "\n",
    "        # Draw elements on the canvas\n",
    "        self.draw_elements_on_canvas()\n",
    "\n",
    "        # If out of fuel, end the episode.\n",
    "        if self.fuel_left == 0:\n",
    "            done = True\n",
    "\n",
    "        return self.canvas, reward, done, []\n",
    "\n",
    "    \n",
    "    def render(self, mode = \"human\"):\n",
    "        assert mode in [\"human\", \"rgb_array\"], \"Invalid mode, must be either \\\"human\\\" or \\\"rgb_array\\\"\"\n",
    "        if mode == \"human\":\n",
    "            cv2.imshow(\"Game\", self.canvas)\n",
    "            cv2.waitKey(10)\n",
    "        \n",
    "        elif mode == \"rgb_array\":\n",
    "            return self.canvas\n",
    "        \n",
    "    def close(self):\n",
    "        cv2.destroyAllWindows()\n",
    "\n",
    "    \n",
    "\n",
    "    \n",
    "    "
   ]
  },
  {
   "cell_type": "markdown",
   "metadata": {},
   "source": [
    "## Creating abstract class for the elements"
   ]
  },
  {
   "cell_type": "code",
   "execution_count": 3,
   "metadata": {},
   "outputs": [],
   "source": [
    "class Point(object):\n",
    "    def __init__(self, name, x_max, x_min, y_max, y_min):\n",
    "        self.x = 0\n",
    "        self.y = 0\n",
    "        self.x_min = x_min\n",
    "        self.x_max = x_max\n",
    "        self.y_min = y_min\n",
    "        self.y_max = y_max\n",
    "        self.name = name\n",
    "    \n",
    "    def set_position(self, x, y):\n",
    "        self.x = self.clamp(x, self.x_min, self.x_max - self.icon_w)\n",
    "        self.y = self.clamp(y, self.y_min, self.y_max - self.icon_h)\n",
    "    \n",
    "    def get_position(self):\n",
    "        return (self.x, self.y)\n",
    "    \n",
    "    def move(self, del_x, del_y):\n",
    "        self.x += del_x\n",
    "        self.y += del_y\n",
    "        \n",
    "        self.x = self.clamp(self.x, self.x_min, self.x_max - self.icon_w)\n",
    "        self.y = self.clamp(self.y, self.y_min, self.y_max - self.icon_h)\n",
    "\n",
    "    def clamp(self, n, minn, maxn):\n",
    "        return max(min(maxn, n), minn)"
   ]
  },
  {
   "cell_type": "markdown",
   "metadata": {},
   "source": [
    "## creating individual element in the game"
   ]
  },
  {
   "cell_type": "code",
   "execution_count": 4,
   "metadata": {},
   "outputs": [],
   "source": [
    "class Car(Point):\n",
    "    def __init__(self, name, x_max, x_min, y_max, y_min):\n",
    "        super(Car, self).__init__(name, x_max, x_min, y_max, y_min)\n",
    "        self.icon = cv2.imread(\"car1.png\") / 255.0\n",
    "        self.icon_w = 64\n",
    "        self.icon_h = 64\n",
    "        self.icon = cv2.resize(self.icon, (self.icon_h, self.icon_w))\n",
    "\n",
    "    \n",
    "class Stone(Point):\n",
    "    def __init__(self, name, x_max, x_min, y_max, y_min):\n",
    "        super(Stone, self).__init__(name, x_max, x_min, y_max, y_min)\n",
    "        self.icon = cv2.imread(\"stone.png\") / 255.0\n",
    "        self.icon_w = 32\n",
    "        self.icon_h = 32\n",
    "        self.icon = cv2.resize(self.icon, (self.icon_h, self.icon_w))\n",
    "    "
   ]
  },
  {
   "cell_type": "markdown",
   "metadata": {},
   "source": [
    "## Testing Enviroment"
   ]
  },
  {
   "cell_type": "code",
   "execution_count": 8,
   "metadata": {},
   "outputs": [
    {
     "name": "stderr",
     "output_type": "stream",
     "text": [
      "C:\\Users\\Genics\\AppData\\Local\\Programs\\Python\\Python310\\lib\\site-packages\\gym\\spaces\\box.py:84: UserWarning: \u001b[33mWARN: Box bound precision lowered by casting to float16\u001b[0m\n",
      "  logger.warn(f\"Box bound precision lowered by casting to {self.dtype}\")\n"
     ]
    }
   ],
   "source": [
    "env = CarScape()"
   ]
  },
  {
   "cell_type": "code",
   "execution_count": 14,
   "metadata": {},
   "outputs": [
    {
     "ename": "ValueError",
     "evalue": "could not broadcast input array from shape (64,64,3) into shape (64,64,2)",
     "output_type": "error",
     "traceback": [
      "\u001b[1;31m---------------------------------------------------------------------------\u001b[0m",
      "\u001b[1;31mValueError\u001b[0m                                Traceback (most recent call last)",
      "\u001b[1;32mc:\\Users\\Genics\\Documents\\DONT\\AIProject\\Enviroment\\custom_env.ipynb Cell 15'\u001b[0m in \u001b[0;36m<cell line: 2>\u001b[1;34m()\u001b[0m\n\u001b[0;32m      <a href='vscode-notebook-cell:/c%3A/Users/Genics/Documents/DONT/AIProject/Enviroment/custom_env.ipynb#ch0000014?line=0'>1</a>\u001b[0m env \u001b[39m=\u001b[39m CarScape()\n\u001b[1;32m----> <a href='vscode-notebook-cell:/c%3A/Users/Genics/Documents/DONT/AIProject/Enviroment/custom_env.ipynb#ch0000014?line=1'>2</a>\u001b[0m obs \u001b[39m=\u001b[39m env\u001b[39m.\u001b[39;49mreset()\n\u001b[0;32m      <a href='vscode-notebook-cell:/c%3A/Users/Genics/Documents/DONT/AIProject/Enviroment/custom_env.ipynb#ch0000014?line=2'>3</a>\u001b[0m episodes \u001b[39m=\u001b[39m \u001b[39m5\u001b[39m\n\u001b[0;32m      <a href='vscode-notebook-cell:/c%3A/Users/Genics/Documents/DONT/AIProject/Enviroment/custom_env.ipynb#ch0000014?line=3'>4</a>\u001b[0m \u001b[39mfor\u001b[39;00m episode \u001b[39min\u001b[39;00m \u001b[39mrange\u001b[39m(\u001b[39m1\u001b[39m,episodes\u001b[39m+\u001b[39m\u001b[39m1\u001b[39m):\n",
      "\u001b[1;32mc:\\Users\\Genics\\Documents\\DONT\\AIProject\\Enviroment\\custom_env.ipynb Cell 8'\u001b[0m in \u001b[0;36mCarScape.reset\u001b[1;34m(self)\u001b[0m\n\u001b[0;32m     <a href='vscode-notebook-cell:/c%3A/Users/Genics/Documents/DONT/AIProject/Enviroment/custom_env.ipynb#ch0000007?line=49'>50</a>\u001b[0m \u001b[39mself\u001b[39m\u001b[39m.\u001b[39mcanvas \u001b[39m=\u001b[39m np\u001b[39m.\u001b[39mones(\u001b[39mself\u001b[39m\u001b[39m.\u001b[39mobservation_shape) \u001b[39m*\u001b[39m \u001b[39m1\u001b[39m\n\u001b[0;32m     <a href='vscode-notebook-cell:/c%3A/Users/Genics/Documents/DONT/AIProject/Enviroment/custom_env.ipynb#ch0000007?line=51'>52</a>\u001b[0m \u001b[39m# Draw elements on the canvas\u001b[39;00m\n\u001b[1;32m---> <a href='vscode-notebook-cell:/c%3A/Users/Genics/Documents/DONT/AIProject/Enviroment/custom_env.ipynb#ch0000007?line=52'>53</a>\u001b[0m \u001b[39mself\u001b[39;49m\u001b[39m.\u001b[39;49mdraw_elements_on_canvas()\n\u001b[0;32m     <a href='vscode-notebook-cell:/c%3A/Users/Genics/Documents/DONT/AIProject/Enviroment/custom_env.ipynb#ch0000007?line=55'>56</a>\u001b[0m \u001b[39m# return the observation\u001b[39;00m\n\u001b[0;32m     <a href='vscode-notebook-cell:/c%3A/Users/Genics/Documents/DONT/AIProject/Enviroment/custom_env.ipynb#ch0000007?line=56'>57</a>\u001b[0m \u001b[39mreturn\u001b[39;00m \u001b[39mself\u001b[39m\u001b[39m.\u001b[39mcanvas\n",
      "\u001b[1;32mc:\\Users\\Genics\\Documents\\DONT\\AIProject\\Enviroment\\custom_env.ipynb Cell 8'\u001b[0m in \u001b[0;36mCarScape.draw_elements_on_canvas\u001b[1;34m(self)\u001b[0m\n\u001b[0;32m     <a href='vscode-notebook-cell:/c%3A/Users/Genics/Documents/DONT/AIProject/Enviroment/custom_env.ipynb#ch0000007?line=65'>66</a>\u001b[0m     elem_shape \u001b[39m=\u001b[39m elem\u001b[39m.\u001b[39micon\u001b[39m.\u001b[39mshape\n\u001b[0;32m     <a href='vscode-notebook-cell:/c%3A/Users/Genics/Documents/DONT/AIProject/Enviroment/custom_env.ipynb#ch0000007?line=66'>67</a>\u001b[0m     x,y \u001b[39m=\u001b[39m elem\u001b[39m.\u001b[39mx, elem\u001b[39m.\u001b[39my\n\u001b[1;32m---> <a href='vscode-notebook-cell:/c%3A/Users/Genics/Documents/DONT/AIProject/Enviroment/custom_env.ipynb#ch0000007?line=67'>68</a>\u001b[0m     \u001b[39mself\u001b[39m\u001b[39m.\u001b[39mcanvas[y : y \u001b[39m+\u001b[39m elem_shape[\u001b[39m1\u001b[39m], x:x \u001b[39m+\u001b[39m elem_shape[\u001b[39m0\u001b[39m]] \u001b[39m=\u001b[39m elem\u001b[39m.\u001b[39micon\n\u001b[0;32m     <a href='vscode-notebook-cell:/c%3A/Users/Genics/Documents/DONT/AIProject/Enviroment/custom_env.ipynb#ch0000007?line=69'>70</a>\u001b[0m text \u001b[39m=\u001b[39m \u001b[39m'\u001b[39m\u001b[39mFuel Left: \u001b[39m\u001b[39m{}\u001b[39;00m\u001b[39m | Rewards: \u001b[39m\u001b[39m{}\u001b[39;00m\u001b[39m'\u001b[39m\u001b[39m.\u001b[39mformat(\u001b[39mself\u001b[39m\u001b[39m.\u001b[39mfuel_left, \u001b[39mself\u001b[39m\u001b[39m.\u001b[39mep_return)\n\u001b[0;32m     <a href='vscode-notebook-cell:/c%3A/Users/Genics/Documents/DONT/AIProject/Enviroment/custom_env.ipynb#ch0000007?line=71'>72</a>\u001b[0m \u001b[39m# Put the info on canvas \u001b[39;00m\n",
      "\u001b[1;31mValueError\u001b[0m: could not broadcast input array from shape (64,64,3) into shape (64,64,2)"
     ]
    }
   ],
   "source": [
    "\n",
    "env = CarScape()\n",
    "obs = env.reset()\n",
    "episodes = 5\n",
    "for episode in range(1,episodes+1):\n",
    "    state=env.reset()\n",
    "    done=False\n",
    "    score=0\n",
    "    \n",
    "    while not done:\n",
    "        env.render()\n",
    "        action=env.action_space.sample()\n",
    "        n_state,reward,done,info=env.step(action)\n",
    "        score +=reward\n",
    "    print(\"episode:{} Score:{}\".format(episode,score))\n",
    "env.close()"
   ]
  },
  {
   "cell_type": "markdown",
   "metadata": {},
   "source": [
    "## Training agent with a model"
   ]
  },
  {
   "cell_type": "code",
   "execution_count": 5,
   "metadata": {},
   "outputs": [],
   "source": [
    "#path to save trained models\n",
    "log_path=os.path.join(\"training\",\"logs\")"
   ]
  },
  {
   "cell_type": "code",
   "execution_count": 9,
   "metadata": {},
   "outputs": [
    {
     "name": "stdout",
     "output_type": "stream",
     "text": [
      "Using cpu device\n"
     ]
    }
   ],
   "source": [
    "env=DummyVecEnv([lambda:env])\n",
    "model=PPO(\"MlpPolicy\",env,verbose=1,tensorboard_log=log_path)"
   ]
  },
  {
   "cell_type": "code",
   "execution_count": 11,
   "metadata": {},
   "outputs": [
    {
     "name": "stdout",
     "output_type": "stream",
     "text": [
      "Logging to training\\logs\\PPO_3\n"
     ]
    },
    {
     "ename": "AttributeError",
     "evalue": "'list' object has no attribute 'get'",
     "output_type": "error",
     "traceback": [
      "\u001b[1;31m---------------------------------------------------------------------------\u001b[0m",
      "\u001b[1;31mAttributeError\u001b[0m                            Traceback (most recent call last)",
      "\u001b[1;32mc:\\Users\\Genics\\Documents\\DONT\\AIProject\\Enviroment\\custom_env.ipynb Cell 19'\u001b[0m in \u001b[0;36m<cell line: 1>\u001b[1;34m()\u001b[0m\n\u001b[1;32m----> <a href='vscode-notebook-cell:/c%3A/Users/Genics/Documents/DONT/AIProject/Enviroment/custom_env.ipynb#ch0000021?line=0'>1</a>\u001b[0m model\u001b[39m.\u001b[39;49mlearn(total_timesteps\u001b[39m=\u001b[39;49m\u001b[39m2000\u001b[39;49m)\n",
      "File \u001b[1;32m~\\AppData\\Local\\Programs\\Python\\Python310\\lib\\site-packages\\stable_baselines3\\ppo\\ppo.py:304\u001b[0m, in \u001b[0;36mPPO.learn\u001b[1;34m(self, total_timesteps, callback, log_interval, eval_env, eval_freq, n_eval_episodes, tb_log_name, eval_log_path, reset_num_timesteps)\u001b[0m\n\u001b[0;32m    <a href='file:///c%3A/Users/Genics/AppData/Local/Programs/Python/Python310/lib/site-packages/stable_baselines3/ppo/ppo.py?line=290'>291</a>\u001b[0m \u001b[39mdef\u001b[39;00m \u001b[39mlearn\u001b[39m(\n\u001b[0;32m    <a href='file:///c%3A/Users/Genics/AppData/Local/Programs/Python/Python310/lib/site-packages/stable_baselines3/ppo/ppo.py?line=291'>292</a>\u001b[0m     \u001b[39mself\u001b[39m,\n\u001b[0;32m    <a href='file:///c%3A/Users/Genics/AppData/Local/Programs/Python/Python310/lib/site-packages/stable_baselines3/ppo/ppo.py?line=292'>293</a>\u001b[0m     total_timesteps: \u001b[39mint\u001b[39m,\n\u001b[1;32m   (...)\u001b[0m\n\u001b[0;32m    <a href='file:///c%3A/Users/Genics/AppData/Local/Programs/Python/Python310/lib/site-packages/stable_baselines3/ppo/ppo.py?line=300'>301</a>\u001b[0m     reset_num_timesteps: \u001b[39mbool\u001b[39m \u001b[39m=\u001b[39m \u001b[39mTrue\u001b[39;00m,\n\u001b[0;32m    <a href='file:///c%3A/Users/Genics/AppData/Local/Programs/Python/Python310/lib/site-packages/stable_baselines3/ppo/ppo.py?line=301'>302</a>\u001b[0m ) \u001b[39m-\u001b[39m\u001b[39m>\u001b[39m \u001b[39m\"\u001b[39m\u001b[39mPPO\u001b[39m\u001b[39m\"\u001b[39m:\n\u001b[1;32m--> <a href='file:///c%3A/Users/Genics/AppData/Local/Programs/Python/Python310/lib/site-packages/stable_baselines3/ppo/ppo.py?line=303'>304</a>\u001b[0m     \u001b[39mreturn\u001b[39;00m \u001b[39msuper\u001b[39;49m(PPO, \u001b[39mself\u001b[39;49m)\u001b[39m.\u001b[39;49mlearn(\n\u001b[0;32m    <a href='file:///c%3A/Users/Genics/AppData/Local/Programs/Python/Python310/lib/site-packages/stable_baselines3/ppo/ppo.py?line=304'>305</a>\u001b[0m         total_timesteps\u001b[39m=\u001b[39;49mtotal_timesteps,\n\u001b[0;32m    <a href='file:///c%3A/Users/Genics/AppData/Local/Programs/Python/Python310/lib/site-packages/stable_baselines3/ppo/ppo.py?line=305'>306</a>\u001b[0m         callback\u001b[39m=\u001b[39;49mcallback,\n\u001b[0;32m    <a href='file:///c%3A/Users/Genics/AppData/Local/Programs/Python/Python310/lib/site-packages/stable_baselines3/ppo/ppo.py?line=306'>307</a>\u001b[0m         log_interval\u001b[39m=\u001b[39;49mlog_interval,\n\u001b[0;32m    <a href='file:///c%3A/Users/Genics/AppData/Local/Programs/Python/Python310/lib/site-packages/stable_baselines3/ppo/ppo.py?line=307'>308</a>\u001b[0m         eval_env\u001b[39m=\u001b[39;49meval_env,\n\u001b[0;32m    <a href='file:///c%3A/Users/Genics/AppData/Local/Programs/Python/Python310/lib/site-packages/stable_baselines3/ppo/ppo.py?line=308'>309</a>\u001b[0m         eval_freq\u001b[39m=\u001b[39;49meval_freq,\n\u001b[0;32m    <a href='file:///c%3A/Users/Genics/AppData/Local/Programs/Python/Python310/lib/site-packages/stable_baselines3/ppo/ppo.py?line=309'>310</a>\u001b[0m         n_eval_episodes\u001b[39m=\u001b[39;49mn_eval_episodes,\n\u001b[0;32m    <a href='file:///c%3A/Users/Genics/AppData/Local/Programs/Python/Python310/lib/site-packages/stable_baselines3/ppo/ppo.py?line=310'>311</a>\u001b[0m         tb_log_name\u001b[39m=\u001b[39;49mtb_log_name,\n\u001b[0;32m    <a href='file:///c%3A/Users/Genics/AppData/Local/Programs/Python/Python310/lib/site-packages/stable_baselines3/ppo/ppo.py?line=311'>312</a>\u001b[0m         eval_log_path\u001b[39m=\u001b[39;49meval_log_path,\n\u001b[0;32m    <a href='file:///c%3A/Users/Genics/AppData/Local/Programs/Python/Python310/lib/site-packages/stable_baselines3/ppo/ppo.py?line=312'>313</a>\u001b[0m         reset_num_timesteps\u001b[39m=\u001b[39;49mreset_num_timesteps,\n\u001b[0;32m    <a href='file:///c%3A/Users/Genics/AppData/Local/Programs/Python/Python310/lib/site-packages/stable_baselines3/ppo/ppo.py?line=313'>314</a>\u001b[0m     )\n",
      "File \u001b[1;32m~\\AppData\\Local\\Programs\\Python\\Python310\\lib\\site-packages\\stable_baselines3\\common\\on_policy_algorithm.py:250\u001b[0m, in \u001b[0;36mOnPolicyAlgorithm.learn\u001b[1;34m(self, total_timesteps, callback, log_interval, eval_env, eval_freq, n_eval_episodes, tb_log_name, eval_log_path, reset_num_timesteps)\u001b[0m\n\u001b[0;32m    <a href='file:///c%3A/Users/Genics/AppData/Local/Programs/Python/Python310/lib/site-packages/stable_baselines3/common/on_policy_algorithm.py?line=245'>246</a>\u001b[0m callback\u001b[39m.\u001b[39mon_training_start(\u001b[39mlocals\u001b[39m(), \u001b[39mglobals\u001b[39m())\n\u001b[0;32m    <a href='file:///c%3A/Users/Genics/AppData/Local/Programs/Python/Python310/lib/site-packages/stable_baselines3/common/on_policy_algorithm.py?line=247'>248</a>\u001b[0m \u001b[39mwhile\u001b[39;00m \u001b[39mself\u001b[39m\u001b[39m.\u001b[39mnum_timesteps \u001b[39m<\u001b[39m total_timesteps:\n\u001b[1;32m--> <a href='file:///c%3A/Users/Genics/AppData/Local/Programs/Python/Python310/lib/site-packages/stable_baselines3/common/on_policy_algorithm.py?line=249'>250</a>\u001b[0m     continue_training \u001b[39m=\u001b[39m \u001b[39mself\u001b[39;49m\u001b[39m.\u001b[39;49mcollect_rollouts(\u001b[39mself\u001b[39;49m\u001b[39m.\u001b[39;49menv, callback, \u001b[39mself\u001b[39;49m\u001b[39m.\u001b[39;49mrollout_buffer, n_rollout_steps\u001b[39m=\u001b[39;49m\u001b[39mself\u001b[39;49m\u001b[39m.\u001b[39;49mn_steps)\n\u001b[0;32m    <a href='file:///c%3A/Users/Genics/AppData/Local/Programs/Python/Python310/lib/site-packages/stable_baselines3/common/on_policy_algorithm.py?line=251'>252</a>\u001b[0m     \u001b[39mif\u001b[39;00m continue_training \u001b[39mis\u001b[39;00m \u001b[39mFalse\u001b[39;00m:\n\u001b[0;32m    <a href='file:///c%3A/Users/Genics/AppData/Local/Programs/Python/Python310/lib/site-packages/stable_baselines3/common/on_policy_algorithm.py?line=252'>253</a>\u001b[0m         \u001b[39mbreak\u001b[39;00m\n",
      "File \u001b[1;32m~\\AppData\\Local\\Programs\\Python\\Python310\\lib\\site-packages\\stable_baselines3\\common\\on_policy_algorithm.py:187\u001b[0m, in \u001b[0;36mOnPolicyAlgorithm.collect_rollouts\u001b[1;34m(self, env, callback, rollout_buffer, n_rollout_steps)\u001b[0m\n\u001b[0;32m    <a href='file:///c%3A/Users/Genics/AppData/Local/Programs/Python/Python310/lib/site-packages/stable_baselines3/common/on_policy_algorithm.py?line=183'>184</a>\u001b[0m \u001b[39mif\u001b[39;00m callback\u001b[39m.\u001b[39mon_step() \u001b[39mis\u001b[39;00m \u001b[39mFalse\u001b[39;00m:\n\u001b[0;32m    <a href='file:///c%3A/Users/Genics/AppData/Local/Programs/Python/Python310/lib/site-packages/stable_baselines3/common/on_policy_algorithm.py?line=184'>185</a>\u001b[0m     \u001b[39mreturn\u001b[39;00m \u001b[39mFalse\u001b[39;00m\n\u001b[1;32m--> <a href='file:///c%3A/Users/Genics/AppData/Local/Programs/Python/Python310/lib/site-packages/stable_baselines3/common/on_policy_algorithm.py?line=186'>187</a>\u001b[0m \u001b[39mself\u001b[39;49m\u001b[39m.\u001b[39;49m_update_info_buffer(infos)\n\u001b[0;32m    <a href='file:///c%3A/Users/Genics/AppData/Local/Programs/Python/Python310/lib/site-packages/stable_baselines3/common/on_policy_algorithm.py?line=187'>188</a>\u001b[0m n_steps \u001b[39m+\u001b[39m\u001b[39m=\u001b[39m \u001b[39m1\u001b[39m\n\u001b[0;32m    <a href='file:///c%3A/Users/Genics/AppData/Local/Programs/Python/Python310/lib/site-packages/stable_baselines3/common/on_policy_algorithm.py?line=189'>190</a>\u001b[0m \u001b[39mif\u001b[39;00m \u001b[39misinstance\u001b[39m(\u001b[39mself\u001b[39m\u001b[39m.\u001b[39maction_space, gym\u001b[39m.\u001b[39mspaces\u001b[39m.\u001b[39mDiscrete):\n\u001b[0;32m    <a href='file:///c%3A/Users/Genics/AppData/Local/Programs/Python/Python310/lib/site-packages/stable_baselines3/common/on_policy_algorithm.py?line=190'>191</a>\u001b[0m     \u001b[39m# Reshape in case of discrete action\u001b[39;00m\n",
      "File \u001b[1;32m~\\AppData\\Local\\Programs\\Python\\Python310\\lib\\site-packages\\stable_baselines3\\common\\base_class.py:460\u001b[0m, in \u001b[0;36mBaseAlgorithm._update_info_buffer\u001b[1;34m(self, infos, dones)\u001b[0m\n\u001b[0;32m    <a href='file:///c%3A/Users/Genics/AppData/Local/Programs/Python/Python310/lib/site-packages/stable_baselines3/common/base_class.py?line=457'>458</a>\u001b[0m     dones \u001b[39m=\u001b[39m np\u001b[39m.\u001b[39marray([\u001b[39mFalse\u001b[39;00m] \u001b[39m*\u001b[39m \u001b[39mlen\u001b[39m(infos))\n\u001b[0;32m    <a href='file:///c%3A/Users/Genics/AppData/Local/Programs/Python/Python310/lib/site-packages/stable_baselines3/common/base_class.py?line=458'>459</a>\u001b[0m \u001b[39mfor\u001b[39;00m idx, info \u001b[39min\u001b[39;00m \u001b[39menumerate\u001b[39m(infos):\n\u001b[1;32m--> <a href='file:///c%3A/Users/Genics/AppData/Local/Programs/Python/Python310/lib/site-packages/stable_baselines3/common/base_class.py?line=459'>460</a>\u001b[0m     maybe_ep_info \u001b[39m=\u001b[39m info\u001b[39m.\u001b[39;49mget(\u001b[39m\"\u001b[39m\u001b[39mepisode\u001b[39m\u001b[39m\"\u001b[39m)\n\u001b[0;32m    <a href='file:///c%3A/Users/Genics/AppData/Local/Programs/Python/Python310/lib/site-packages/stable_baselines3/common/base_class.py?line=460'>461</a>\u001b[0m     maybe_is_success \u001b[39m=\u001b[39m info\u001b[39m.\u001b[39mget(\u001b[39m\"\u001b[39m\u001b[39mis_success\u001b[39m\u001b[39m\"\u001b[39m)\n\u001b[0;32m    <a href='file:///c%3A/Users/Genics/AppData/Local/Programs/Python/Python310/lib/site-packages/stable_baselines3/common/base_class.py?line=461'>462</a>\u001b[0m     \u001b[39mif\u001b[39;00m maybe_ep_info \u001b[39mis\u001b[39;00m \u001b[39mnot\u001b[39;00m \u001b[39mNone\u001b[39;00m:\n",
      "\u001b[1;31mAttributeError\u001b[0m: 'list' object has no attribute 'get'"
     ]
    }
   ],
   "source": [
    "model.learn(total_timesteps=2000)"
   ]
  }
 ],
 "metadata": {
  "interpreter": {
   "hash": "aa80d4b4de3727cfa2518b49adbfc283db787af8992ca5e6213bf95eaea93412"
  },
  "kernelspec": {
   "display_name": "Python 3.10.2 64-bit",
   "language": "python",
   "name": "python3"
  },
  "language_info": {
   "codemirror_mode": {
    "name": "ipython",
    "version": 3
   },
   "file_extension": ".py",
   "mimetype": "text/x-python",
   "name": "python",
   "nbconvert_exporter": "python",
   "pygments_lexer": "ipython3",
   "version": "3.10.2"
  },
  "orig_nbformat": 4
 },
 "nbformat": 4,
 "nbformat_minor": 2
}
