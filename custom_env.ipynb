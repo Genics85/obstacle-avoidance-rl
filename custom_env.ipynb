{
 "cells": [
  {
   "cell_type": "markdown",
   "metadata": {},
   "source": [
    "## installing dependencies"
   ]
  },
  {
   "cell_type": "code",
   "execution_count": null,
   "metadata": {},
   "outputs": [],
   "source": [
    "!pip install opencv-python"
   ]
  },
  {
   "cell_type": "code",
   "execution_count": null,
   "metadata": {},
   "outputs": [],
   "source": [
    "!pip install pillow"
   ]
  },
  {
   "cell_type": "markdown",
   "metadata": {},
   "source": [
    "## importing libraries"
   ]
  },
  {
   "cell_type": "code",
   "execution_count": 88,
   "metadata": {},
   "outputs": [
    {
     "name": "stderr",
     "output_type": "stream",
     "text": [
      "C:\\Users\\Genics\\AppData\\Local\\Programs\\Python\\Python310\\lib\\site-packages\\tqdm\\auto.py:22: TqdmWarning: IProgress not found. Please update jupyter and ipywidgets. See https://ipywidgets.readthedocs.io/en/stable/user_install.html\n",
      "  from .autonotebook import tqdm as notebook_tqdm\n"
     ]
    }
   ],
   "source": [
    "import numpy as np\n",
    "import cv2\n",
    "import matplotlib.pyplot as plt\n",
    "from PIL import Image\n",
    "import gym\n",
    "import random\n",
    "from gym import Env,spaces\n",
    "import time\n",
    "import os\n",
    "from stable_baselines3 import PPO\n",
    "from stable_baselines3.common.vec_env import DummyVecEnv\n",
    "from stable_baselines3.common.evaluation import evaluate_policy\n",
    "\n",
    "font= cv2.FONT_HERSHEY_COMPLEX_SMALL"
   ]
  },
  {
   "cell_type": "code",
   "execution_count": 23,
   "metadata": {},
   "outputs": [
    {
     "name": "stdout",
     "output_type": "stream",
     "text": [
      "PNG (840, 859) RGBA\n"
     ]
    }
   ],
   "source": [
    "img=Image.open(\"car.png\")\n",
    "print(img.format, img.size,img.mode)\n",
    "img.show()"
   ]
  },
  {
   "cell_type": "markdown",
   "metadata": {},
   "source": [
    "## Description of enviroment"
   ]
  },
  {
   "cell_type": "code",
   "execution_count": 108,
   "metadata": {},
   "outputs": [],
   "source": [
    "class CarScape(Env):\n",
    "    \n",
    "    def __init__(self):\n",
    "        super(CarScape, self).__init__()\n",
    "        \n",
    "        # Define a 2-D observation space\n",
    "        self.observation_shape = (500, 700, 3)\n",
    "        self.observation_space = spaces.Box(low = np.zeros(self.observation_shape), \n",
    "                                            high = np.ones(self.observation_shape),\n",
    "                                            dtype = np.float16)\n",
    "    \n",
    "        \n",
    "        # Define an action space ranging from 0 to 4\n",
    "        self.action_space = spaces.Discrete(6,)\n",
    "                        \n",
    "        # Create a canvas to render the environment images upon \n",
    "        self.canvas = np.ones(self.observation_shape) * 1\n",
    "        \n",
    "        # Define elements present inside the environment\n",
    "        self.elements = []\n",
    "\n",
    "        # Permissible area of car to be \n",
    "        self.y_min = int (self.observation_shape[0] * 0.1)\n",
    "        self.x_min = 0\n",
    "        self.y_max = int (self.observation_shape[0] * 0.9)\n",
    "        self.x_max = self.observation_shape[1]\n",
    "\n",
    "    def reset(self):\n",
    "\n",
    "        # Reset the reward\n",
    "        self.ep_return  = 0\n",
    "\n",
    "        # Number of stones\n",
    "        self.stone_count = 0\n",
    "\n",
    "        self.fuel_left=1000\n",
    "\n",
    "        # Determine a place to intialise the car in\n",
    "        x = random.randrange(int(self.observation_shape[0] * 0.05), int(self.observation_shape[0] * 0.10))\n",
    "        y = random.randrange(int(self.observation_shape[1] * 0.15), int(self.observation_shape[1] * 0.20))\n",
    "        \n",
    "        # Intialise the car\n",
    "        self.car =Car(\"Car\", self.x_max, self.x_min, self.y_max, self.y_min)\n",
    "        self.car.set_position(x,y)\n",
    "\n",
    "        # Intialise the elements \n",
    "        self.elements = [self.car]\n",
    "\n",
    "        # Reset the Canvas \n",
    "        self.canvas = np.ones(self.observation_shape) * 1\n",
    "\n",
    "        # Draw elements on the canvas\n",
    "        self.draw_elements_on_canvas()\n",
    "\n",
    "\n",
    "        # return the observation\n",
    "        return self.canvas \n",
    "\n",
    "    \n",
    "    def draw_elements_on_canvas(self):\n",
    "        # Init the canvas \n",
    "        self.canvas = np.ones(self.observation_shape) * 1\n",
    "\n",
    "        # Draw the heliopter on canvas\n",
    "        for elem in self.elements:\n",
    "            elem_shape = elem.icon.shape\n",
    "            x,y = elem.x, elem.y\n",
    "            self.canvas[y : y + elem_shape[1], x:x + elem_shape[0]] = elem.icon\n",
    "\n",
    "        text = 'Fuel Left: {} | Rewards: {}'.format(self.fuel_left, self.ep_return)\n",
    "\n",
    "        # Put the info on canvas \n",
    "        self.canvas = cv2.putText(self.canvas, text, (10,20), font,  \n",
    "                0.8, (0,0,0), 1, cv2.LINE_AA)\n",
    "\n",
    "    def get_action_meanings(self):\n",
    "        return {0: \"Right\", 1: \"Left\", 2: \"Down\", 3: \"Up\", 4: \"Do Nothing\"}\n",
    "\n",
    "    def has_collided(self, elem1, elem2):\n",
    "        x_col = False\n",
    "        y_col = False\n",
    "\n",
    "        elem1_x, elem1_y = elem1.get_position()\n",
    "        elem2_x, elem2_y = elem2.get_position()\n",
    "\n",
    "        if 2 * abs(elem1_x - elem2_x) <= (elem1.icon_w + elem2.icon_w):\n",
    "            x_col = True\n",
    "\n",
    "        if 2 * abs(elem1_y - elem2_y) <= (elem1.icon_h + elem2.icon_h):\n",
    "            y_col = True\n",
    "\n",
    "        if x_col and y_col:\n",
    "            return True\n",
    "\n",
    "        return False\n",
    "\n",
    "    def step(self, action):\n",
    "        # Flag that marks the termination of an episode\n",
    "        done = False\n",
    "        \n",
    "        # Assert that it is a valid action \n",
    "        assert self.action_space.contains(action), \"Invalid Action\"\n",
    "\n",
    "        # Decrease the fuel counter \n",
    "        self.fuel_left -= 1 \n",
    "        \n",
    "        # Reward for executing a step.\n",
    "        reward = 1      \n",
    "\n",
    "        # apply the action to the car\n",
    "        if action == 0:\n",
    "            self.car.move(0,5)\n",
    "        elif action == 1:\n",
    "            self.car.move(0,-5)\n",
    "        elif action == 2:\n",
    "            self.car.move(5,0)\n",
    "        elif action == 3:\n",
    "            self.car.move(-5,0)\n",
    "        elif action == 4:\n",
    "            self.car.move(0,0)\n",
    "\n",
    "        # Spawn a stone at the right edge with prob 0.01\n",
    "        if random.random() < 0.05:\n",
    "            \n",
    "            # Spawn a stone\n",
    "            spawned_stone = Stone(\"stone_{}\".format(self.stone_count), self.x_max, self.x_min, self.y_max, self.y_min)\n",
    "            self.stone_count += 1\n",
    "\n",
    "            # Compute the x,y co-ordinates of the position from where the stone has to be spawned\n",
    "            # Horizontally, the position is on the right edge and vertically, the height is randomly \n",
    "            # sampled from the set of permissible values\n",
    "            stone_x = self.x_max \n",
    "            stone_y = random.randrange(self.y_min, self.y_max)\n",
    "            spawned_stone.set_position(self.x_max, stone_y)\n",
    "            \n",
    "            # Append the spawned stone to the elements currently present in Env. \n",
    "            self.elements.append(spawned_stone)    \n",
    " \n",
    "\n",
    "        # For elements in the Ev\n",
    "        for elem in self.elements:\n",
    "            if isinstance(elem, Stone):\n",
    "                # If the stone has reached the left edge, remove it from the Env\n",
    "                if elem.get_position()[0] <= self.x_min:\n",
    "                    self.elements.remove(elem)\n",
    "                else:\n",
    "                    # Move the stone left by 5 pts.\n",
    "                    elem.move(-10,0)\n",
    "                \n",
    "                # If the stone has collided.\n",
    "                if self.has_collided(self.car, elem):\n",
    "                    # Conclude the episode and remove the car from the Env.\n",
    "                    done = True\n",
    "                    reward = -10\n",
    "                    self.elements.remove(self.car)\n",
    "\n",
    "        \n",
    "        # Increment the episodic return\n",
    "        self.ep_return += 1\n",
    "\n",
    "        # Draw elements on the canvas\n",
    "        self.draw_elements_on_canvas()\n",
    "\n",
    "        # If out of fuel, end the episode.\n",
    "        if self.fuel_left == 0:\n",
    "            done = True\n",
    "\n",
    "        return self.canvas, reward, done, []\n",
    "\n",
    "    \n",
    "    def render(self, mode = \"human\"):\n",
    "        assert mode in [\"human\", \"rgb_array\"], \"Invalid mode, must be either \\\"human\\\" or \\\"rgb_array\\\"\"\n",
    "        if mode == \"human\":\n",
    "            cv2.imshow(\"Game\", self.canvas)\n",
    "            cv2.waitKey(10)\n",
    "        \n",
    "        elif mode == \"rgb_array\":\n",
    "            return self.canvas\n",
    "        \n",
    "    def close(self):\n",
    "        cv2.destroyAllWindows()\n",
    "\n",
    "    \n",
    "\n",
    "    \n",
    "    "
   ]
  },
  {
   "cell_type": "markdown",
   "metadata": {},
   "source": [
    "## Creating a point where all element inherits from"
   ]
  },
  {
   "cell_type": "code",
   "execution_count": 67,
   "metadata": {},
   "outputs": [],
   "source": [
    "class Point(object):\n",
    "    def __init__(self, name, x_max, x_min, y_max, y_min):\n",
    "        self.x = 0\n",
    "        self.y = 0\n",
    "        self.x_min = x_min\n",
    "        self.x_max = x_max\n",
    "        self.y_min = y_min\n",
    "        self.y_max = y_max\n",
    "        self.name = name\n",
    "    \n",
    "    def set_position(self, x, y):\n",
    "        self.x = self.clamp(x, self.x_min, self.x_max - self.icon_w)\n",
    "        self.y = self.clamp(y, self.y_min, self.y_max - self.icon_h)\n",
    "    \n",
    "    def get_position(self):\n",
    "        return (self.x, self.y)\n",
    "    \n",
    "    def move(self, del_x, del_y):\n",
    "        self.x += del_x\n",
    "        self.y += del_y\n",
    "        \n",
    "        self.x = self.clamp(self.x, self.x_min, self.x_max - self.icon_w)\n",
    "        self.y = self.clamp(self.y, self.y_min, self.y_max - self.icon_h)\n",
    "\n",
    "    def clamp(self, n, minn, maxn):\n",
    "        return max(min(maxn, n), minn)"
   ]
  },
  {
   "cell_type": "markdown",
   "metadata": {},
   "source": [
    "## creating individual element in the game"
   ]
  },
  {
   "cell_type": "code",
   "execution_count": 66,
   "metadata": {},
   "outputs": [],
   "source": [
    "class Car(Point):\n",
    "    def __init__(self, name, x_max, x_min, y_max, y_min):\n",
    "        super(Car, self).__init__(name, x_max, x_min, y_max, y_min)\n",
    "        self.icon = cv2.imread(\"car1.png\") / 255.0\n",
    "        self.icon_w = 64\n",
    "        self.icon_h = 64\n",
    "        self.icon = cv2.resize(self.icon, (self.icon_h, self.icon_w))\n",
    "\n",
    "    \n",
    "class Stone(Point):\n",
    "    def __init__(self, name, x_max, x_min, y_max, y_min):\n",
    "        super(Stone, self).__init__(name, x_max, x_min, y_max, y_min)\n",
    "        self.icon = cv2.imread(\"stone.png\") / 255.0\n",
    "        self.icon_w = 32\n",
    "        self.icon_h = 32\n",
    "        self.icon = cv2.resize(self.icon, (self.icon_h, self.icon_w))\n",
    "    "
   ]
  },
  {
   "cell_type": "markdown",
   "metadata": {},
   "source": [
    "## Returning canvas with elements placed on them as observation"
   ]
  },
  {
   "cell_type": "code",
   "execution_count": 60,
   "metadata": {},
   "outputs": [
    {
     "data": {
      "text/plain": [
       "<matplotlib.image.AxesImage at 0x17ff201bd00>"
      ]
     },
     "execution_count": 60,
     "metadata": {},
     "output_type": "execute_result"
    },
    {
     "data": {
      "image/png": "[encoded data removed]",
      "text/plain": [
       "<Figure size 432x288 with 1 Axes>"
      ]
     },
     "metadata": {
      "needs_background": "light"
     },
     "output_type": "display_data"
    }
   ],
   "source": [
    "env = CarScape()\n",
    "obs = env.reset()\n",
    "plt.imshow(obs)"
   ]
  },
  {
   "cell_type": "code",
   "execution_count": 109,
   "metadata": {},
   "outputs": [
    {
     "ename": "error",
     "evalue": "OpenCV(4.5.5) D:\\a\\opencv-python\\opencv-python\\opencv\\modules\\core\\src\\alloc.cpp:73: error: (-4:Insufficient memory) Failed to allocate 12000000 bytes in function 'cv::OutOfMemoryError'\n",
     "output_type": "error",
     "traceback": [
      "\u001b[1;31m---------------------------------------------------------------------------\u001b[0m",
      "\u001b[1;31merror\u001b[0m                                     Traceback (most recent call last)",
      "\u001b[1;32mc:\\Users\\Genics\\Documents\\DONT\\AIProject\\Enviroment\\custom_env.ipynb Cell 15'\u001b[0m in \u001b[0;36m<cell line: 2>\u001b[1;34m()\u001b[0m\n\u001b[0;32m      <a href='vscode-notebook-cell:/c%3A/Users/Genics/Documents/DONT/AIProject/Enviroment/custom_env.ipynb#ch0000017?line=0'>1</a>\u001b[0m env \u001b[39m=\u001b[39m CarScape()\n\u001b[1;32m----> <a href='vscode-notebook-cell:/c%3A/Users/Genics/Documents/DONT/AIProject/Enviroment/custom_env.ipynb#ch0000017?line=1'>2</a>\u001b[0m obs \u001b[39m=\u001b[39m env\u001b[39m.\u001b[39;49mreset()\n\u001b[0;32m      <a href='vscode-notebook-cell:/c%3A/Users/Genics/Documents/DONT/AIProject/Enviroment/custom_env.ipynb#ch0000017?line=2'>3</a>\u001b[0m episodes \u001b[39m=\u001b[39m \u001b[39m5\u001b[39m\n\u001b[0;32m      <a href='vscode-notebook-cell:/c%3A/Users/Genics/Documents/DONT/AIProject/Enviroment/custom_env.ipynb#ch0000017?line=3'>4</a>\u001b[0m \u001b[39mfor\u001b[39;00m episode \u001b[39min\u001b[39;00m \u001b[39mrange\u001b[39m(\u001b[39m1\u001b[39m,episodes\u001b[39m+\u001b[39m\u001b[39m1\u001b[39m):\n",
      "\u001b[1;32mc:\\Users\\Genics\\Documents\\DONT\\AIProject\\Enviroment\\custom_env.ipynb Cell 8'\u001b[0m in \u001b[0;36mCarScape.reset\u001b[1;34m(self)\u001b[0m\n\u001b[0;32m     <a href='vscode-notebook-cell:/c%3A/Users/Genics/Documents/DONT/AIProject/Enviroment/custom_env.ipynb#ch0000007?line=39'>40</a>\u001b[0m y \u001b[39m=\u001b[39m random\u001b[39m.\u001b[39mrandrange(\u001b[39mint\u001b[39m(\u001b[39mself\u001b[39m\u001b[39m.\u001b[39mobservation_shape[\u001b[39m1\u001b[39m] \u001b[39m*\u001b[39m \u001b[39m0.15\u001b[39m), \u001b[39mint\u001b[39m(\u001b[39mself\u001b[39m\u001b[39m.\u001b[39mobservation_shape[\u001b[39m1\u001b[39m] \u001b[39m*\u001b[39m \u001b[39m0.20\u001b[39m))\n\u001b[0;32m     <a href='vscode-notebook-cell:/c%3A/Users/Genics/Documents/DONT/AIProject/Enviroment/custom_env.ipynb#ch0000007?line=41'>42</a>\u001b[0m \u001b[39m# Intialise the car\u001b[39;00m\n\u001b[1;32m---> <a href='vscode-notebook-cell:/c%3A/Users/Genics/Documents/DONT/AIProject/Enviroment/custom_env.ipynb#ch0000007?line=42'>43</a>\u001b[0m \u001b[39mself\u001b[39m\u001b[39m.\u001b[39mcar \u001b[39m=\u001b[39mCar(\u001b[39m\"\u001b[39;49m\u001b[39mCar\u001b[39;49m\u001b[39m\"\u001b[39;49m, \u001b[39mself\u001b[39;49m\u001b[39m.\u001b[39;49mx_max, \u001b[39mself\u001b[39;49m\u001b[39m.\u001b[39;49mx_min, \u001b[39mself\u001b[39;49m\u001b[39m.\u001b[39;49my_max, \u001b[39mself\u001b[39;49m\u001b[39m.\u001b[39;49my_min)\n\u001b[0;32m     <a href='vscode-notebook-cell:/c%3A/Users/Genics/Documents/DONT/AIProject/Enviroment/custom_env.ipynb#ch0000007?line=43'>44</a>\u001b[0m \u001b[39mself\u001b[39m\u001b[39m.\u001b[39mcar\u001b[39m.\u001b[39mset_position(x,y)\n\u001b[0;32m     <a href='vscode-notebook-cell:/c%3A/Users/Genics/Documents/DONT/AIProject/Enviroment/custom_env.ipynb#ch0000007?line=45'>46</a>\u001b[0m \u001b[39m# Intialise the elements \u001b[39;00m\n",
      "\u001b[1;32mc:\\Users\\Genics\\Documents\\DONT\\AIProject\\Enviroment\\custom_env.ipynb Cell 12'\u001b[0m in \u001b[0;36mCar.__init__\u001b[1;34m(self, name, x_max, x_min, y_max, y_min)\u001b[0m\n\u001b[0;32m      <a href='vscode-notebook-cell:/c%3A/Users/Genics/Documents/DONT/AIProject/Enviroment/custom_env.ipynb#ch0000011?line=1'>2</a>\u001b[0m \u001b[39mdef\u001b[39;00m \u001b[39m__init__\u001b[39m(\u001b[39mself\u001b[39m, name, x_max, x_min, y_max, y_min):\n\u001b[0;32m      <a href='vscode-notebook-cell:/c%3A/Users/Genics/Documents/DONT/AIProject/Enviroment/custom_env.ipynb#ch0000011?line=2'>3</a>\u001b[0m     \u001b[39msuper\u001b[39m(Car, \u001b[39mself\u001b[39m)\u001b[39m.\u001b[39m\u001b[39m__init__\u001b[39m(name, x_max, x_min, y_max, y_min)\n\u001b[1;32m----> <a href='vscode-notebook-cell:/c%3A/Users/Genics/Documents/DONT/AIProject/Enviroment/custom_env.ipynb#ch0000011?line=3'>4</a>\u001b[0m     \u001b[39mself\u001b[39m\u001b[39m.\u001b[39micon \u001b[39m=\u001b[39m cv2\u001b[39m.\u001b[39;49mimread(\u001b[39m\"\u001b[39;49m\u001b[39mcar1.png\u001b[39;49m\u001b[39m\"\u001b[39;49m) \u001b[39m/\u001b[39m \u001b[39m255.0\u001b[39m\n\u001b[0;32m      <a href='vscode-notebook-cell:/c%3A/Users/Genics/Documents/DONT/AIProject/Enviroment/custom_env.ipynb#ch0000011?line=4'>5</a>\u001b[0m     \u001b[39mself\u001b[39m\u001b[39m.\u001b[39micon_w \u001b[39m=\u001b[39m \u001b[39m64\u001b[39m\n\u001b[0;32m      <a href='vscode-notebook-cell:/c%3A/Users/Genics/Documents/DONT/AIProject/Enviroment/custom_env.ipynb#ch0000011?line=5'>6</a>\u001b[0m     \u001b[39mself\u001b[39m\u001b[39m.\u001b[39micon_h \u001b[39m=\u001b[39m \u001b[39m64\u001b[39m\n",
      "\u001b[1;31merror\u001b[0m: OpenCV(4.5.5) D:\\a\\opencv-python\\opencv-python\\opencv\\modules\\core\\src\\alloc.cpp:73: error: (-4:Insufficient memory) Failed to allocate 12000000 bytes in function 'cv::OutOfMemoryError'\n"
     ]
    }
   ],
   "source": [
    "\n",
    "env = CarScape()\n",
    "obs = env.reset()\n",
    "episodes = 5\n",
    "for episode in range(1,episodes+1):\n",
    "    state=env.reset()\n",
    "    done=False\n",
    "    score=0\n",
    "    \n",
    "    while not done:\n",
    "        env.render()\n",
    "        action=env.action_space.sample()\n",
    "        n_state,reward,done,info=env.step(action)\n",
    "        score +=reward\n",
    "    print(\"episode:{} Score:{}\".format(episode,score))\n",
    "env.close()"
   ]
  },
  {
   "cell_type": "markdown",
   "metadata": {},
   "source": [
    "## Training agent with a model"
   ]
  },
  {
   "cell_type": "code",
   "execution_count": 87,
   "metadata": {},
   "outputs": [],
   "source": [
    "#path to save trained models\n",
    "log_path=os.path.join(\"training\",\"logs\")"
   ]
  },
  {
   "cell_type": "code",
   "execution_count": 101,
   "metadata": {},
   "outputs": [
    {
     "name": "stdout",
     "output_type": "stream",
     "text": [
      "Using cpu device\n"
     ]
    },
    {
     "ename": "MemoryError",
     "evalue": "Unable to allocate 8.01 GiB for an array with shape (2048, 1, 500, 700, 3) and data type float32",
     "output_type": "error",
     "traceback": [
      "\u001b[1;31m---------------------------------------------------------------------------\u001b[0m",
      "\u001b[1;31mMemoryError\u001b[0m                               Traceback (most recent call last)",
      "\u001b[1;32mc:\\Users\\Genics\\Documents\\DONT\\AIProject\\Enviroment\\custom_env.ipynb Cell 18'\u001b[0m in \u001b[0;36m<cell line: 2>\u001b[1;34m()\u001b[0m\n\u001b[0;32m      <a href='vscode-notebook-cell:/c%3A/Users/Genics/Documents/DONT/AIProject/Enviroment/custom_env.ipynb#ch0000020?line=0'>1</a>\u001b[0m env\u001b[39m=\u001b[39mDummyVecEnv([\u001b[39mlambda\u001b[39;00m:env])\n\u001b[1;32m----> <a href='vscode-notebook-cell:/c%3A/Users/Genics/Documents/DONT/AIProject/Enviroment/custom_env.ipynb#ch0000020?line=1'>2</a>\u001b[0m model\u001b[39m=\u001b[39mPPO(\u001b[39m\"\u001b[39;49m\u001b[39mMlpPolicy\u001b[39;49m\u001b[39m\"\u001b[39;49m,env,verbose\u001b[39m=\u001b[39;49m\u001b[39m1\u001b[39;49m)\n",
      "File \u001b[1;32m~\\AppData\\Local\\Programs\\Python\\Python310\\lib\\site-packages\\stable_baselines3\\ppo\\ppo.py:156\u001b[0m, in \u001b[0;36mPPO.__init__\u001b[1;34m(self, policy, env, learning_rate, n_steps, batch_size, n_epochs, gamma, gae_lambda, clip_range, clip_range_vf, normalize_advantage, ent_coef, vf_coef, max_grad_norm, use_sde, sde_sample_freq, target_kl, tensorboard_log, create_eval_env, policy_kwargs, verbose, seed, device, _init_setup_model)\u001b[0m\n\u001b[0;32m    <a href='file:///c%3A/Users/Genics/AppData/Local/Programs/Python/Python310/lib/site-packages/stable_baselines3/ppo/ppo.py?line=152'>153</a>\u001b[0m \u001b[39mself\u001b[39m\u001b[39m.\u001b[39mtarget_kl \u001b[39m=\u001b[39m target_kl\n\u001b[0;32m    <a href='file:///c%3A/Users/Genics/AppData/Local/Programs/Python/Python310/lib/site-packages/stable_baselines3/ppo/ppo.py?line=154'>155</a>\u001b[0m \u001b[39mif\u001b[39;00m _init_setup_model:\n\u001b[1;32m--> <a href='file:///c%3A/Users/Genics/AppData/Local/Programs/Python/Python310/lib/site-packages/stable_baselines3/ppo/ppo.py?line=155'>156</a>\u001b[0m     \u001b[39mself\u001b[39;49m\u001b[39m.\u001b[39;49m_setup_model()\n",
      "File \u001b[1;32m~\\AppData\\Local\\Programs\\Python\\Python310\\lib\\site-packages\\stable_baselines3\\ppo\\ppo.py:159\u001b[0m, in \u001b[0;36mPPO._setup_model\u001b[1;34m(self)\u001b[0m\n\u001b[0;32m    <a href='file:///c%3A/Users/Genics/AppData/Local/Programs/Python/Python310/lib/site-packages/stable_baselines3/ppo/ppo.py?line=157'>158</a>\u001b[0m \u001b[39mdef\u001b[39;00m \u001b[39m_setup_model\u001b[39m(\u001b[39mself\u001b[39m) \u001b[39m-\u001b[39m\u001b[39m>\u001b[39m \u001b[39mNone\u001b[39;00m:\n\u001b[1;32m--> <a href='file:///c%3A/Users/Genics/AppData/Local/Programs/Python/Python310/lib/site-packages/stable_baselines3/ppo/ppo.py?line=158'>159</a>\u001b[0m     \u001b[39msuper\u001b[39;49m(PPO, \u001b[39mself\u001b[39;49m)\u001b[39m.\u001b[39;49m_setup_model()\n\u001b[0;32m    <a href='file:///c%3A/Users/Genics/AppData/Local/Programs/Python/Python310/lib/site-packages/stable_baselines3/ppo/ppo.py?line=160'>161</a>\u001b[0m     \u001b[39m# Initialize schedules for policy/value clipping\u001b[39;00m\n\u001b[0;32m    <a href='file:///c%3A/Users/Genics/AppData/Local/Programs/Python/Python310/lib/site-packages/stable_baselines3/ppo/ppo.py?line=161'>162</a>\u001b[0m     \u001b[39mself\u001b[39m\u001b[39m.\u001b[39mclip_range \u001b[39m=\u001b[39m get_schedule_fn(\u001b[39mself\u001b[39m\u001b[39m.\u001b[39mclip_range)\n",
      "File \u001b[1;32m~\\AppData\\Local\\Programs\\Python\\Python310\\lib\\site-packages\\stable_baselines3\\common\\on_policy_algorithm.py:111\u001b[0m, in \u001b[0;36mOnPolicyAlgorithm._setup_model\u001b[1;34m(self)\u001b[0m\n\u001b[0;32m    <a href='file:///c%3A/Users/Genics/AppData/Local/Programs/Python/Python310/lib/site-packages/stable_baselines3/common/on_policy_algorithm.py?line=106'>107</a>\u001b[0m \u001b[39mself\u001b[39m\u001b[39m.\u001b[39mset_random_seed(\u001b[39mself\u001b[39m\u001b[39m.\u001b[39mseed)\n\u001b[0;32m    <a href='file:///c%3A/Users/Genics/AppData/Local/Programs/Python/Python310/lib/site-packages/stable_baselines3/common/on_policy_algorithm.py?line=108'>109</a>\u001b[0m buffer_cls \u001b[39m=\u001b[39m DictRolloutBuffer \u001b[39mif\u001b[39;00m \u001b[39misinstance\u001b[39m(\u001b[39mself\u001b[39m\u001b[39m.\u001b[39mobservation_space, gym\u001b[39m.\u001b[39mspaces\u001b[39m.\u001b[39mDict) \u001b[39melse\u001b[39;00m RolloutBuffer\n\u001b[1;32m--> <a href='file:///c%3A/Users/Genics/AppData/Local/Programs/Python/Python310/lib/site-packages/stable_baselines3/common/on_policy_algorithm.py?line=110'>111</a>\u001b[0m \u001b[39mself\u001b[39m\u001b[39m.\u001b[39mrollout_buffer \u001b[39m=\u001b[39m buffer_cls(\n\u001b[0;32m    <a href='file:///c%3A/Users/Genics/AppData/Local/Programs/Python/Python310/lib/site-packages/stable_baselines3/common/on_policy_algorithm.py?line=111'>112</a>\u001b[0m     \u001b[39mself\u001b[39;49m\u001b[39m.\u001b[39;49mn_steps,\n\u001b[0;32m    <a href='file:///c%3A/Users/Genics/AppData/Local/Programs/Python/Python310/lib/site-packages/stable_baselines3/common/on_policy_algorithm.py?line=112'>113</a>\u001b[0m     \u001b[39mself\u001b[39;49m\u001b[39m.\u001b[39;49mobservation_space,\n\u001b[0;32m    <a href='file:///c%3A/Users/Genics/AppData/Local/Programs/Python/Python310/lib/site-packages/stable_baselines3/common/on_policy_algorithm.py?line=113'>114</a>\u001b[0m     \u001b[39mself\u001b[39;49m\u001b[39m.\u001b[39;49maction_space,\n\u001b[0;32m    <a href='file:///c%3A/Users/Genics/AppData/Local/Programs/Python/Python310/lib/site-packages/stable_baselines3/common/on_policy_algorithm.py?line=114'>115</a>\u001b[0m     device\u001b[39m=\u001b[39;49m\u001b[39mself\u001b[39;49m\u001b[39m.\u001b[39;49mdevice,\n\u001b[0;32m    <a href='file:///c%3A/Users/Genics/AppData/Local/Programs/Python/Python310/lib/site-packages/stable_baselines3/common/on_policy_algorithm.py?line=115'>116</a>\u001b[0m     gamma\u001b[39m=\u001b[39;49m\u001b[39mself\u001b[39;49m\u001b[39m.\u001b[39;49mgamma,\n\u001b[0;32m    <a href='file:///c%3A/Users/Genics/AppData/Local/Programs/Python/Python310/lib/site-packages/stable_baselines3/common/on_policy_algorithm.py?line=116'>117</a>\u001b[0m     gae_lambda\u001b[39m=\u001b[39;49m\u001b[39mself\u001b[39;49m\u001b[39m.\u001b[39;49mgae_lambda,\n\u001b[0;32m    <a href='file:///c%3A/Users/Genics/AppData/Local/Programs/Python/Python310/lib/site-packages/stable_baselines3/common/on_policy_algorithm.py?line=117'>118</a>\u001b[0m     n_envs\u001b[39m=\u001b[39;49m\u001b[39mself\u001b[39;49m\u001b[39m.\u001b[39;49mn_envs,\n\u001b[0;32m    <a href='file:///c%3A/Users/Genics/AppData/Local/Programs/Python/Python310/lib/site-packages/stable_baselines3/common/on_policy_algorithm.py?line=118'>119</a>\u001b[0m )\n\u001b[0;32m    <a href='file:///c%3A/Users/Genics/AppData/Local/Programs/Python/Python310/lib/site-packages/stable_baselines3/common/on_policy_algorithm.py?line=119'>120</a>\u001b[0m \u001b[39mself\u001b[39m\u001b[39m.\u001b[39mpolicy \u001b[39m=\u001b[39m \u001b[39mself\u001b[39m\u001b[39m.\u001b[39mpolicy_class(  \u001b[39m# pytype:disable=not-instantiable\u001b[39;00m\n\u001b[0;32m    <a href='file:///c%3A/Users/Genics/AppData/Local/Programs/Python/Python310/lib/site-packages/stable_baselines3/common/on_policy_algorithm.py?line=120'>121</a>\u001b[0m     \u001b[39mself\u001b[39m\u001b[39m.\u001b[39mobservation_space,\n\u001b[0;32m    <a href='file:///c%3A/Users/Genics/AppData/Local/Programs/Python/Python310/lib/site-packages/stable_baselines3/common/on_policy_algorithm.py?line=121'>122</a>\u001b[0m     \u001b[39mself\u001b[39m\u001b[39m.\u001b[39maction_space,\n\u001b[1;32m   (...)\u001b[0m\n\u001b[0;32m    <a href='file:///c%3A/Users/Genics/AppData/Local/Programs/Python/Python310/lib/site-packages/stable_baselines3/common/on_policy_algorithm.py?line=124'>125</a>\u001b[0m     \u001b[39m*\u001b[39m\u001b[39m*\u001b[39m\u001b[39mself\u001b[39m\u001b[39m.\u001b[39mpolicy_kwargs  \u001b[39m# pytype:disable=not-instantiable\u001b[39;00m\n\u001b[0;32m    <a href='file:///c%3A/Users/Genics/AppData/Local/Programs/Python/Python310/lib/site-packages/stable_baselines3/common/on_policy_algorithm.py?line=125'>126</a>\u001b[0m )\n\u001b[0;32m    <a href='file:///c%3A/Users/Genics/AppData/Local/Programs/Python/Python310/lib/site-packages/stable_baselines3/common/on_policy_algorithm.py?line=126'>127</a>\u001b[0m \u001b[39mself\u001b[39m\u001b[39m.\u001b[39mpolicy \u001b[39m=\u001b[39m \u001b[39mself\u001b[39m\u001b[39m.\u001b[39mpolicy\u001b[39m.\u001b[39mto(\u001b[39mself\u001b[39m\u001b[39m.\u001b[39mdevice)\n",
      "File \u001b[1;32m~\\AppData\\Local\\Programs\\Python\\Python310\\lib\\site-packages\\stable_baselines3\\common\\buffers.py:348\u001b[0m, in \u001b[0;36mRolloutBuffer.__init__\u001b[1;34m(self, buffer_size, observation_space, action_space, device, gae_lambda, gamma, n_envs)\u001b[0m\n\u001b[0;32m    <a href='file:///c%3A/Users/Genics/AppData/Local/Programs/Python/Python310/lib/site-packages/stable_baselines3/common/buffers.py?line=345'>346</a>\u001b[0m \u001b[39mself\u001b[39m\u001b[39m.\u001b[39mreturns, \u001b[39mself\u001b[39m\u001b[39m.\u001b[39mepisode_starts, \u001b[39mself\u001b[39m\u001b[39m.\u001b[39mvalues, \u001b[39mself\u001b[39m\u001b[39m.\u001b[39mlog_probs \u001b[39m=\u001b[39m \u001b[39mNone\u001b[39;00m, \u001b[39mNone\u001b[39;00m, \u001b[39mNone\u001b[39;00m, \u001b[39mNone\u001b[39;00m\n\u001b[0;32m    <a href='file:///c%3A/Users/Genics/AppData/Local/Programs/Python/Python310/lib/site-packages/stable_baselines3/common/buffers.py?line=346'>347</a>\u001b[0m \u001b[39mself\u001b[39m\u001b[39m.\u001b[39mgenerator_ready \u001b[39m=\u001b[39m \u001b[39mFalse\u001b[39;00m\n\u001b[1;32m--> <a href='file:///c%3A/Users/Genics/AppData/Local/Programs/Python/Python310/lib/site-packages/stable_baselines3/common/buffers.py?line=347'>348</a>\u001b[0m \u001b[39mself\u001b[39;49m\u001b[39m.\u001b[39;49mreset()\n",
      "File \u001b[1;32m~\\AppData\\Local\\Programs\\Python\\Python310\\lib\\site-packages\\stable_baselines3\\common\\buffers.py:352\u001b[0m, in \u001b[0;36mRolloutBuffer.reset\u001b[1;34m(self)\u001b[0m\n\u001b[0;32m    <a href='file:///c%3A/Users/Genics/AppData/Local/Programs/Python/Python310/lib/site-packages/stable_baselines3/common/buffers.py?line=349'>350</a>\u001b[0m \u001b[39mdef\u001b[39;00m \u001b[39mreset\u001b[39m(\u001b[39mself\u001b[39m) \u001b[39m-\u001b[39m\u001b[39m>\u001b[39m \u001b[39mNone\u001b[39;00m:\n\u001b[1;32m--> <a href='file:///c%3A/Users/Genics/AppData/Local/Programs/Python/Python310/lib/site-packages/stable_baselines3/common/buffers.py?line=351'>352</a>\u001b[0m     \u001b[39mself\u001b[39m\u001b[39m.\u001b[39mobservations \u001b[39m=\u001b[39m np\u001b[39m.\u001b[39;49mzeros((\u001b[39mself\u001b[39;49m\u001b[39m.\u001b[39;49mbuffer_size, \u001b[39mself\u001b[39;49m\u001b[39m.\u001b[39;49mn_envs) \u001b[39m+\u001b[39;49m \u001b[39mself\u001b[39;49m\u001b[39m.\u001b[39;49mobs_shape, dtype\u001b[39m=\u001b[39;49mnp\u001b[39m.\u001b[39;49mfloat32)\n\u001b[0;32m    <a href='file:///c%3A/Users/Genics/AppData/Local/Programs/Python/Python310/lib/site-packages/stable_baselines3/common/buffers.py?line=352'>353</a>\u001b[0m     \u001b[39mself\u001b[39m\u001b[39m.\u001b[39mactions \u001b[39m=\u001b[39m np\u001b[39m.\u001b[39mzeros((\u001b[39mself\u001b[39m\u001b[39m.\u001b[39mbuffer_size, \u001b[39mself\u001b[39m\u001b[39m.\u001b[39mn_envs, \u001b[39mself\u001b[39m\u001b[39m.\u001b[39maction_dim), dtype\u001b[39m=\u001b[39mnp\u001b[39m.\u001b[39mfloat32)\n\u001b[0;32m    <a href='file:///c%3A/Users/Genics/AppData/Local/Programs/Python/Python310/lib/site-packages/stable_baselines3/common/buffers.py?line=353'>354</a>\u001b[0m     \u001b[39mself\u001b[39m\u001b[39m.\u001b[39mrewards \u001b[39m=\u001b[39m np\u001b[39m.\u001b[39mzeros((\u001b[39mself\u001b[39m\u001b[39m.\u001b[39mbuffer_size, \u001b[39mself\u001b[39m\u001b[39m.\u001b[39mn_envs), dtype\u001b[39m=\u001b[39mnp\u001b[39m.\u001b[39mfloat32)\n",
      "\u001b[1;31mMemoryError\u001b[0m: Unable to allocate 8.01 GiB for an array with shape (2048, 1, 500, 700, 3) and data type float32"
     ]
    }
   ],
   "source": [
    "env=DummyVecEnv([lambda:env])\n",
    "model=PPO(\"MlpPolicy\",env,verbose=1,tensorboard_log=log_path)"
   ]
  }
 ],
 "metadata": {
  "interpreter": {
   "hash": "aa80d4b4de3727cfa2518b49adbfc283db787af8992ca5e6213bf95eaea93412"
  },
  "kernelspec": {
   "display_name": "Python 3.10.2 64-bit",
   "language": "python",
   "name": "python3"
  },
  "language_info": {
   "codemirror_mode": {
    "name": "ipython",
    "version": 3
   },
   "file_extension": ".py",
   "mimetype": "text/x-python",
   "name": "python",
   "nbconvert_exporter": "python",
   "pygments_lexer": "ipython3",
   "version": "3.10.2"
  },
  "orig_nbformat": 4
 },
 "nbformat": 4,
 "nbformat_minor": 2
}
